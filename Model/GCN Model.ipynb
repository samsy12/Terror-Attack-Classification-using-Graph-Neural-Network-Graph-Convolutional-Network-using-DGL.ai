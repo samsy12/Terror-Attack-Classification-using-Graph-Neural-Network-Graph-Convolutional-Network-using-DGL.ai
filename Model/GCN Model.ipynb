{
  "nbformat": 4,
  "nbformat_minor": 0,
  "metadata": {
    "colab": {
      "name": "DGL4.ipynb",
      "provenance": []
    },
    "kernelspec": {
      "name": "python3",
      "display_name": "Python 3"
    },
    "language_info": {
      "name": "python"
    }
  },
  "cells": [
    {
      "cell_type": "code",
      "metadata": {
        "colab": {
          "base_uri": "https://localhost:8080/"
        },
        "id": "GSy0Oho2_E2E",
        "outputId": "e07ce567-1f65-4398-fcfe-d98eb827da05"
      },
      "source": [
        "!pip install dgl\n",
        "import dgl\n",
        "import torch\n",
        "import torch.nn as nn\n",
        "import torch.nn.functional as F\n",
        "import itertools\n",
        "import numpy as np\n",
        "import scipy.sparse as sp"
      ],
      "execution_count": 64,
      "outputs": [
        {
          "output_type": "stream",
          "text": [
            "Requirement already satisfied: dgl in /usr/local/lib/python3.7/dist-packages (0.6.1)\n",
            "Requirement already satisfied: scipy>=1.1.0 in /usr/local/lib/python3.7/dist-packages (from dgl) (1.4.1)\n",
            "Requirement already satisfied: networkx>=2.1 in /usr/local/lib/python3.7/dist-packages (from dgl) (2.5.1)\n",
            "Requirement already satisfied: numpy>=1.14.0 in /usr/local/lib/python3.7/dist-packages (from dgl) (1.19.5)\n",
            "Requirement already satisfied: requests>=2.19.0 in /usr/local/lib/python3.7/dist-packages (from dgl) (2.23.0)\n",
            "Requirement already satisfied: decorator<5,>=4.3 in /usr/local/lib/python3.7/dist-packages (from networkx>=2.1->dgl) (4.4.2)\n",
            "Requirement already satisfied: certifi>=2017.4.17 in /usr/local/lib/python3.7/dist-packages (from requests>=2.19.0->dgl) (2020.12.5)\n",
            "Requirement already satisfied: idna<3,>=2.5 in /usr/local/lib/python3.7/dist-packages (from requests>=2.19.0->dgl) (2.10)\n",
            "Requirement already satisfied: urllib3!=1.25.0,!=1.25.1,<1.26,>=1.21.1 in /usr/local/lib/python3.7/dist-packages (from requests>=2.19.0->dgl) (1.24.3)\n",
            "Requirement already satisfied: chardet<4,>=3.0.2 in /usr/local/lib/python3.7/dist-packages (from requests>=2.19.0->dgl) (3.0.4)\n"
          ],
          "name": "stdout"
        }
      ]
    },
    {
      "cell_type": "code",
      "metadata": {
        "id": "Vy0jOsH4GWl4"
      },
      "source": [
        "!nvcc --version"
      ],
      "execution_count": null,
      "outputs": []
    },
    {
      "cell_type": "code",
      "metadata": {
        "id": "td5FYBp7V_ie"
      },
      "source": [
        "import pandas as pd\n",
        "nodes = pd.read_csv('./node.csv')#node URLs\n",
        "labels = pd.read_csv('./label.csv')#corresponding labels\n",
        "feat = pd.read_csv('./feat.csv')#corresponding features\n",
        "edges = pd.read_csv('./edges.csv')#edges in the form source, destination\n",
        "src=list(edges['src'])\n",
        "dst=list(edges[' dst'])\n"
      ],
      "execution_count": 65,
      "outputs": []
    },
    {
      "cell_type": "code",
      "metadata": {
        "id": "nlH3DvF2xslY"
      },
      "source": [
        "#loading unique labels for mapping them to int ids\n",
        "labelsm = pd.read_csv('./labels.csv')"
      ],
      "execution_count": 66,
      "outputs": []
    },
    {
      "cell_type": "code",
      "metadata": {
        "id": "bG2oxGn4eRw5"
      },
      "source": [
        "#mapping node urls to int ids\n",
        "mapping={}\n",
        "for i in range(len(nodes['node'])):\n",
        "  mapping[nodes['node'][i]]=i\n",
        "for i in range(len(src)):\n",
        "  src[i]=mapping[src[i].strip()]\n",
        "for i in range(len(dst)):\n",
        "  dst[i]=mapping[dst[i].strip()]"
      ],
      "execution_count": 67,
      "outputs": []
    },
    {
      "cell_type": "code",
      "metadata": {
        "id": "eHFe8QHJxS-3"
      },
      "source": [
        "#mapping labels to int ids\n",
        "mappingl={}\n",
        "for i in range(len(labelsm['label'])):\n",
        "  mappingl[labelsm['label'][i]]=i\n",
        "for i in range(len(labels['label'])):\n",
        "  labels['label'][i]=mappingl[labels['label'][i].strip()]"
      ],
      "execution_count": 68,
      "outputs": []
    },
    {
      "cell_type": "code",
      "metadata": {
        "id": "t7XXyLWOupXC"
      },
      "source": [
        "u = np.concatenate([src, dst])\n",
        "v = np.concatenate([dst, src])\n",
        "g = dgl.graph((u,v), num_nodes=len(nodes))#undirected graph"
      ],
      "execution_count": 69,
      "outputs": []
    },
    {
      "cell_type": "code",
      "metadata": {
        "id": "qg9xuO6Dluls"
      },
      "source": [
        "#feature adjacency matrix\n",
        "from numpy import genfromtxt\n",
        "feat = genfromtxt('feat.csv', delimiter=',')\n",
        "g.ndata['feat']=torch.from_numpy(feat)\n",
        "g.ndata['feat']=g.ndata['feat'].type(torch.FloatTensor)"
      ],
      "execution_count": 70,
      "outputs": []
    },
    {
      "cell_type": "code",
      "metadata": {
        "id": "q_Uwvb18nOnR"
      },
      "source": [
        "#labels\n",
        "g.ndata['label'] = torch.from_numpy(labels['label'].astype('category').cat.codes.to_numpy()).type(torch.LongTensor)"
      ],
      "execution_count": 71,
      "outputs": []
    },
    {
      "cell_type": "code",
      "metadata": {
        "id": "8WlF1RNaorDd"
      },
      "source": [
        "#train, validation, test split = 90%, 5%, 5%\n",
        "n_nodes = len(nodes)\n",
        "n_train = int(n_nodes* 0.9)\n",
        "n_val = int(n_nodes* 0.05)\n",
        "train_mask = torch.zeros(n_nodes, dtype=torch.bool)\n",
        "val_mask = torch.zeros(n_nodes, dtype=torch.bool)\n",
        "test_mask = torch.zeros(n_nodes, dtype=torch.bool)\n",
        "train_mask[:n_train] = True\n",
        "val_mask[n_train:n_train + n_val] = True\n",
        "test_mask[n_train + n_val:] = True\n",
        "g.ndata['train_mask'] = train_mask\n",
        "g.ndata['val_mask'] = val_mask\n",
        "g.ndata['test_mask'] = test_mask"
      ],
      "execution_count": 72,
      "outputs": []
    },
    {
      "cell_type": "code",
      "metadata": {
        "colab": {
          "base_uri": "https://localhost:8080/"
        },
        "id": "F3wseUO4mPRC",
        "outputId": "2ff85c3c-cfec-479d-fc27-6f24d54b6671"
      },
      "source": [
        "print('Node features')\n",
        "print(g.ndata)\n",
        "print('Edge features')\n",
        "print(g.edata)"
      ],
      "execution_count": 73,
      "outputs": [
        {
          "output_type": "stream",
          "text": [
            "Node features\n",
            "{'feat': tensor([[0., 0., 0.,  ..., 0., 0., 0.],\n",
            "        [0., 0., 0.,  ..., 0., 0., 0.],\n",
            "        [0., 0., 0.,  ..., 0., 0., 0.],\n",
            "        ...,\n",
            "        [0., 0., 0.,  ..., 0., 0., 0.],\n",
            "        [1., 0., 0.,  ..., 0., 0., 0.],\n",
            "        [0., 0., 1.,  ..., 0., 0., 0.]]), 'label': tensor([0, 0, 0,  ..., 5, 5, 5]), 'train_mask': tensor([ True,  True,  True,  ..., False, False, False]), 'val_mask': tensor([False, False, False,  ..., False, False, False]), 'test_mask': tensor([False, False, False,  ...,  True,  True,  True])}\n",
            "Edge features\n",
            "{}\n"
          ],
          "name": "stdout"
        }
      ]
    },
    {
      "cell_type": "code",
      "metadata": {
        "id": "3m-q0Ea1pEp2"
      },
      "source": [
        "from dgl.nn import GraphConv\n",
        "\n",
        "class GCN(nn.Module):\n",
        "    def __init__(self, in_feats, h_feats, num_classes):\n",
        "        super(GCN, self).__init__()\n",
        "        self.conv1 = GraphConv(in_feats, h_feats,allow_zero_in_degree=True)\n",
        "        self.conv2 = GraphConv(h_feats, num_classes,allow_zero_in_degree=True)\n",
        "\n",
        "    def forward(self, g, in_feat):\n",
        "        h = self.conv1(g, in_feat)\n",
        "        h = F.relu(h)\n",
        "        h = self.conv2(g, h)\n",
        "        return h\n",
        "\n",
        "#creating model\n",
        "model = GCN(g.ndata['feat'].shape[1], 16, 6)"
      ],
      "execution_count": 74,
      "outputs": []
    },
    {
      "cell_type": "code",
      "metadata": {
        "colab": {
          "base_uri": "https://localhost:8080/"
        },
        "id": "xMnGM551pahf",
        "outputId": "9122b5f5-4fb5-458a-9a9e-99006324acf6"
      },
      "source": [
        "def train(g, model):\n",
        "    optimizer = torch.optim.Adam(model.parameters(), lr=0.01)\n",
        "    best_val_acc = 0\n",
        "    best_test_acc = 0\n",
        "\n",
        "    features = (g.ndata['feat'])\n",
        "    labels = g.ndata['label']\n",
        "    train_mask = g.ndata['train_mask']\n",
        "    val_mask = g.ndata['val_mask']\n",
        "    test_mask = g.ndata['test_mask']\n",
        "    for e in range(20):\n",
        "        #forward\n",
        "        logits = model(g, features)\n",
        "\n",
        "        #computing prediction\n",
        "        pred = logits.argmax(1)\n",
        "\n",
        "        #computing losses of the nodes in the training set\n",
        "        loss = F.cross_entropy(logits[train_mask], labels[train_mask])\n",
        "\n",
        "        #computing accuracy on training/validation/test\n",
        "        train_acc = (pred[train_mask] == labels[train_mask]).float().mean()\n",
        "        val_acc = (pred[val_mask] == labels[val_mask]).float().mean()\n",
        "        test_acc = (pred[test_mask] == labels[test_mask]).float().mean()\n",
        "\n",
        "        #saving the best validation accuracy and the corresponding test accuracy.\n",
        "        if best_val_acc < val_acc:\n",
        "            best_val_acc = val_acc\n",
        "            best_test_acc = test_acc\n",
        "\n",
        "        #backward\n",
        "        optimizer.zero_grad()\n",
        "        loss.backward()\n",
        "        optimizer.step()\n",
        "\n",
        "        print('In epoch {}, loss: {:.3f}, val acc: {:.3f} (best {:.3f}), test acc: {:.3f} (best {:.3f})'.format(\n",
        "                e, loss, val_acc, best_val_acc, test_acc, best_test_acc))\n",
        "model = GCN(g.ndata['feat'].shape[1], 16, 6)\n",
        "#training\n",
        "train(g, model)"
      ],
      "execution_count": 75,
      "outputs": [
        {
          "output_type": "stream",
          "text": [
            "In epoch 0, loss: 1.804, val acc: 0.031 (best 0.031), test acc: 0.076 (best 0.076)\n",
            "In epoch 1, loss: 1.742, val acc: 0.188 (best 0.188), test acc: 0.273 (best 0.273)\n",
            "In epoch 2, loss: 1.682, val acc: 0.797 (best 0.797), test acc: 0.803 (best 0.803)\n",
            "In epoch 3, loss: 1.623, val acc: 0.797 (best 0.797), test acc: 0.803 (best 0.803)\n",
            "In epoch 4, loss: 1.564, val acc: 0.797 (best 0.797), test acc: 0.803 (best 0.803)\n",
            "In epoch 5, loss: 1.504, val acc: 0.812 (best 0.812), test acc: 0.758 (best 0.758)\n",
            "In epoch 6, loss: 1.448, val acc: 0.812 (best 0.812), test acc: 0.758 (best 0.758)\n",
            "In epoch 7, loss: 1.399, val acc: 0.812 (best 0.812), test acc: 0.758 (best 0.758)\n",
            "In epoch 8, loss: 1.360, val acc: 0.812 (best 0.812), test acc: 0.758 (best 0.758)\n",
            "In epoch 9, loss: 1.331, val acc: 0.812 (best 0.812), test acc: 0.758 (best 0.758)\n",
            "In epoch 10, loss: 1.310, val acc: 0.797 (best 0.812), test acc: 0.803 (best 0.758)\n",
            "In epoch 11, loss: 1.295, val acc: 0.797 (best 0.812), test acc: 0.803 (best 0.758)\n",
            "In epoch 12, loss: 1.284, val acc: 0.812 (best 0.812), test acc: 0.803 (best 0.758)\n",
            "In epoch 13, loss: 1.275, val acc: 0.859 (best 0.859), test acc: 0.803 (best 0.803)\n",
            "In epoch 14, loss: 1.265, val acc: 0.859 (best 0.859), test acc: 0.803 (best 0.803)\n",
            "In epoch 15, loss: 1.255, val acc: 0.859 (best 0.859), test acc: 0.818 (best 0.803)\n",
            "In epoch 16, loss: 1.245, val acc: 0.859 (best 0.859), test acc: 0.818 (best 0.803)\n",
            "In epoch 17, loss: 1.234, val acc: 0.859 (best 0.859), test acc: 0.818 (best 0.803)\n",
            "In epoch 18, loss: 1.223, val acc: 0.859 (best 0.859), test acc: 0.818 (best 0.803)\n",
            "In epoch 19, loss: 1.214, val acc: 0.859 (best 0.859), test acc: 0.818 (best 0.803)\n"
          ],
          "name": "stdout"
        }
      ]
    },
    {
      "cell_type": "code",
      "metadata": {
        "id": "bwR6YyxrqvRV"
      },
      "source": [
        "#saving parameters\n",
        "torch.save(model, \"./demo.pth\")"
      ],
      "execution_count": 76,
      "outputs": []
    }
  ]
}